{
 "cells": [
  {
   "cell_type": "markdown",
   "id": "45fb3e32-5ea1-4c04-b964-77a6db8bf0f5",
   "metadata": {},
   "source": [
    "# DICOM to NifTI (Local to Remote)"
   ]
  },
  {
   "cell_type": "code",
   "execution_count": 1,
   "id": "13db066d-b761-4d99-af81-ba3b7e1182f0",
   "metadata": {},
   "outputs": [],
   "source": [
    "#|default_exp dicom_to_nifti_remote"
   ]
  },
  {
   "cell_type": "markdown",
   "id": "829463ec-b5e8-4bf3-b84d-7ba28fbde57b",
   "metadata": {},
   "source": [
    "We can upload these DICOM files as NifTI files to a remote machine with a good GPU, for us to make deep learning experiments more efficiently.\n",
    "\n",
    "Follow these steps to rent an instance to run this notebook:\n",
    "1. Create a [Vastai](https://cloud.vast.ai) instance. I chose one with a 1x RTX 3090 24GB VRAM, enough storage for the whole dataset + some extra, and high upload speed (in the closest location possible).\n",
    "2. Open a Jupyter terminal and create a directory for the dataset using `mkdir /workspace/data; mkdir /workspace/data/series`.\n",
    "3. Get the instance's public IP and exposed SSH port and set the `RSNA_IAD_VASTAI_PUBLIC_IP` and `RSNA_IAD_VASTAI_SSH_PORT` variables in the `develop` script of this project's directory.\n",
    "4. Create an SSH key pair using `ssh-keygen -t rsa -b 4096 -C \"some-email\"`, press enter on everything and add the public key in `$HOME/.ssh/id_rsa.pub` to the instance.\n",
    "5. Rerun `source develop` and test copying one of the stored NifTI files from the previous notebook using `rsync -arz -v --progress -e \"ssh -i ~/.ssh/id_rsa -p $RSNA_IAD_VASTAI_SSH_PORT\" \"path-to-nifti-file\" root@$RSNA_IAD_VASTAI_PUBLIC_IP:/workspace/data/series` in the terminal. This will also ask you to confirm the connection to an unknown host for the first time, so it works automatically in the future.\n",
    "6. Stop the Jupyter server, run `source develop`, and run the server again."
   ]
  },
  {
   "cell_type": "code",
   "execution_count": 2,
   "id": "5dad6663-099b-4432-88ef-f088b688cb0b",
   "metadata": {},
   "outputs": [],
   "source": [
    "import sys\n",
    "sys.path.append(\"../lib\")"
   ]
  },
  {
   "cell_type": "markdown",
   "id": "dd1b6957-4074-405a-bfba-aba2647c7d79",
   "metadata": {},
   "source": [
    "Let's load somes files:"
   ]
  },
  {
   "cell_type": "code",
   "execution_count": 3,
   "id": "ea5a8032-214d-4f99-b85c-a7e524ec1816",
   "metadata": {},
   "outputs": [],
   "source": [
    "#|export\n",
    "from dicom_to_nifti import *\n",
    "import os"
   ]
  },
  {
   "cell_type": "code",
   "execution_count": 4,
   "id": "cade6959-57fc-411d-9c69-f1b0f68d5a2d",
   "metadata": {},
   "outputs": [],
   "source": [
    "base_path_dicom = os.environ[\"RSNA_IAD_DATA_DIR\"]\n",
    "series_path_dicom = f\"{base_path_dicom}/series\"\n",
    "series_uid_l = os.listdir(series_path_dicom)\n",
    "ds_l = dicom_serie_load(series_path_dicom, series_uid_l[0])\n",
    "volume, ds_metadata_l = dicom_serie_process(ds_l)\n",
    "\n",
    "base_path_nifti = f\"{os.environ['RSNA_IAD_DATA_DIR']}/nifti\"\n",
    "series_path_nifti = f\"{base_path_dicom}/series\"\n",
    "dicom_volume_to_nifti(volume, ds_metadata_l, series_uid_l[0], series_path_nifti)"
   ]
  },
  {
   "cell_type": "markdown",
   "id": "da1fe27f-00d7-4332-b681-b930bb2c5c4a",
   "metadata": {},
   "source": [
    "We can now take the volume and metadata, store them as a NifTI temporarily on the local machine, and copy them to the remote instance:"
   ]
  },
  {
   "cell_type": "code",
   "execution_count": 5,
   "id": "3fd27e5d-a887-4051-9a6e-d913ad9a0c1b",
   "metadata": {},
   "outputs": [],
   "source": [
    "#|export\n",
    "import torch\n",
    "import numpy as np\n",
    "import nibabel\n",
    "\n",
    "def dicom_volume_to_nifti_remote(volume, ds_metadata_l, serie_uid, path, send_file, remote_path):\n",
    "\n",
    "    nifti_path = f\"{path}/{serie_uid}.nii.gz\"\n",
    "    \n",
    "    nifti = nibabel.nifti1.Nifti1Image(volume.detach().cpu().numpy(), affine=np.eye(4))\n",
    "    \n",
    "    # Define spacing\n",
    "    spacing = dicom_serie_get_spacing(ds_metadata_l)\n",
    "    nifti.header.set_zooms(spacing)\n",
    "    \n",
    "    nibabel.save(nifti, nifti_path)\n",
    "\n",
    "    # copy to remote machine\n",
    "    output = send_file(nifti_path, remote_path)\n",
    "    if output.stderr != b\"\":\n",
    "        print(output.stderr.decode(\"UTF-8\"))\n",
    "\n",
    "    os.remove(nifti_path)"
   ]
  },
  {
   "cell_type": "markdown",
   "id": "3eb81458-5e6e-4f7a-b8d1-cecfc39d69f0",
   "metadata": {},
   "source": [
    "We do need to provide a `send_file` callback to the previous function, which takes the `remote_path` as an argument. We will create a class for this remote GPU provider where the public IP and SSH port are defined at initialization and then used as needed:"
   ]
  },
  {
   "cell_type": "code",
   "execution_count": 10,
   "id": "2977bbc9-a95d-4574-bf0e-2f7560cea0a2",
   "metadata": {},
   "outputs": [],
   "source": [
    "#|export\n",
    "import subprocess\n",
    "\n",
    "class VastAI:\n",
    "\n",
    "    def __init__(self, public_ip, ssh_port):\n",
    "        self.public_ip = public_ip\n",
    "        self.ssh_port = ssh_port\n",
    "\n",
    "    def set_api_key(self, api_key):\n",
    "        output = subprocess.run([\"vastai\", \"set\", \"api-key\", api_key], capture_output=True)\n",
    "        return output\n",
    "\n",
    "    def send_file(self, local_path, remote_path):\n",
    "        output = subprocess.run([\"rsync\", \"-arz\", \"-v\", \"-y\",\n",
    "                f\"-e ssh -i {os.environ[\"HOME\"]}/.ssh/id_rsa -p {self.ssh_port}\", \n",
    "                local_path, \n",
    "                f'root@{self.public_ip}:/workspace/{remote_path}'], capture_output=True)\n",
    "\n",
    "        if output.stderr == b\"Welcome to vast.ai. If authentication fails, try again after a few seconds, and double check your ssh key.\\nHave fun!\\n\":\n",
    "            output.stderr = b\"\"\n",
    "        \n",
    "        return output"
   ]
  },
  {
   "cell_type": "code",
   "execution_count": 12,
   "id": "fe5e09bb-931c-44de-96c6-ea5468411f43",
   "metadata": {},
   "outputs": [
    {
     "data": {
      "text/plain": [
       "CompletedProcess(args=['rsync', '-arz', '-v', '-y', '-e ssh -i /home/afonsomm/.ssh/id_rsa -p 11757', '/home/afonsomm/Desktop/data/rsna_iad/series/1.2.826.0.1.3680043.8.498.10004044428023505108375152878107656647.nii.gz', 'root@79.160.189.79:/workspace/data/series'], returncode=0, stdout=b'sending incremental file list\\n1.2.826.0.1.3680043.8.498.10004044428023505108375152878107656647.nii.gz\\n\\nsent 175 bytes  received 49,252 bytes  19,770.80 bytes/sec\\ntotal size is 49,325,902  speedup is 997.95\\n', stderr=b'')"
      ]
     },
     "execution_count": 12,
     "metadata": {},
     "output_type": "execute_result"
    }
   ],
   "source": [
    "vastai = VastAI(os.environ[\"RSNA_IAD_VASTAI_PUBLIC_IP\"], \n",
    "                os.environ[\"RSNA_IAD_VASTAI_SSH_PORT\"])\n",
    "\n",
    "vastai.send_file(f\"{series_path_nifti}/{series_uid_l[0]}.nii.gz\", \"data/series\")"
   ]
  },
  {
   "cell_type": "markdown",
   "id": "7a7fd44e-3d8d-409e-92a3-a467505406d6",
   "metadata": {},
   "source": [
    "Finally, we can create the temporary directory where the intermediate NifTIs will live until they are sent to the remote instance, and then call the actual function passing in the VastAI object `send_file` method as the callback:"
   ]
  },
  {
   "cell_type": "code",
   "execution_count": 14,
   "id": "24f54ebe-b3e3-488d-9e27-a8d724ecbc96",
   "metadata": {},
   "outputs": [],
   "source": [
    "# Set temporary directory\n",
    "series_path_nifti_temp = f\"{base_path_nifti}/temp\"\n",
    "if not os.path.exists(series_path_nifti_temp):\n",
    "    os.mkdir(series_path_nifti_temp)\n",
    "\n",
    "dicom_volume_to_nifti_remote(volume, ds_metadata_l, series_uid_l[0], series_path_nifti_temp, vastai.send_file, \"data/series\")\n",
    "\n",
    "os.rmdir(series_path_nifti_temp)"
   ]
  },
  {
   "cell_type": "code",
   "execution_count": 15,
   "id": "f075f8c4-9d41-4b36-a6c9-c2ecb8745c1b",
   "metadata": {},
   "outputs": [],
   "source": [
    "#|export\n",
    "def dicom_serie_to_nifti_remote(base_path_dicom, serie_uid, base_path_nifti, send_file, remote_path):\n",
    "    ds_l = dicom_serie_load(base_path_dicom, serie_uid)\n",
    "    volume, ds_metadata_l = dicom_serie_process(ds_l)\n",
    "    dicom_volume_to_nifti_remote(volume, ds_metadata_l, serie_uid, base_path_nifti, send_file, remote_path)"
   ]
  },
  {
   "cell_type": "code",
   "execution_count": 16,
   "id": "d338defa-e07c-4539-b705-93821503e126",
   "metadata": {},
   "outputs": [],
   "source": [
    "series_path_nifti_temp = f\"{base_path_nifti}/temp\"\n",
    "if not os.path.exists(series_path_nifti_temp):\n",
    "    os.mkdir(series_path_nifti_temp)\n",
    "\n",
    "dicom_serie_to_nifti_remote(series_path_dicom, series_uid_l[0], series_path_nifti, vastai.send_file, \"data/series\")\n",
    "\n",
    "os.rmdir(series_path_nifti_temp)"
   ]
  },
  {
   "cell_type": "markdown",
   "id": "f1944fa2-1f01-450d-92eb-a21af751498d",
   "metadata": {},
   "source": [
    "Use the same approach to parallelize file IO as in the previous notebook:"
   ]
  },
  {
   "cell_type": "code",
   "execution_count": 17,
   "id": "0c23c48e-4734-494c-8c8e-36b60798f440",
   "metadata": {},
   "outputs": [],
   "source": [
    "#|export\n",
    "from concurrent.futures import ProcessPoolExecutor, as_completed\n",
    "import multiprocessing\n",
    "from tqdm import tqdm\n",
    "\n",
    "def dicom_series_to_niftis_remote(base_path_dicoms, series_uid, base_path_niftis, send_file, remote_path, max_workers):\n",
    "\n",
    "    # Set temporary directory\n",
    "    series_path_nifti_temp = f\"{base_path_nifti}/temp\"\n",
    "    if not os.path.exists(series_path_nifti_temp):\n",
    "        os.mkdir(series_path_nifti_temp)\n",
    "    \n",
    "    with ProcessPoolExecutor(max_workers=max_workers) as executor:\n",
    "        futures = [executor.submit(dicom_serie_to_nifti_remote, base_path_dicoms, serie_uid, series_path_nifti_temp, send_file, remote_path) for serie_uid in series_uid]\n",
    "        for future in tqdm(as_completed(futures), total=len(futures)):\n",
    "            ...\n",
    "\n",
    "    os.rmdir(series_path_nifti_temp)"
   ]
  },
  {
   "cell_type": "code",
   "execution_count": 18,
   "id": "d8290f7e-3c36-47a4-a48a-b997640b7fb1",
   "metadata": {},
   "outputs": [
    {
     "name": "stderr",
     "output_type": "stream",
     "text": [
      "100%|█████████████████████████████████████████████████████████████| 5/5 [05:56<00:00, 71.21s/it]\n"
     ]
    }
   ],
   "source": [
    "import random\n",
    "\n",
    "random.seed(0)\n",
    "samples_series_uid_l = random.sample(series_uid_l, 5)\n",
    "dicom_series_to_niftis_remote(series_path_dicom, samples_series_uid_l, series_path_nifti, vastai.send_file, \"data/series\", 4)"
   ]
  },
  {
   "cell_type": "code",
   "execution_count": 19,
   "id": "661e5796-785d-471d-acb2-32208c029fae",
   "metadata": {},
   "outputs": [],
   "source": [
    "# dicom_series_to_niftis_remote(series_path_dicom, series_uid_l, series_path_nifti, vastai.send_file, \"data/series\", 4)"
   ]
  },
  {
   "cell_type": "markdown",
   "id": "ed8038e7-a9f4-42d8-a1ce-63643bea1cba",
   "metadata": {},
   "source": [
    "Also send the csv with labels and demographics:"
   ]
  },
  {
   "cell_type": "code",
   "execution_count": 20,
   "id": "70c6ed3b-765d-43e9-b31e-67258c42762c",
   "metadata": {},
   "outputs": [
    {
     "data": {
      "text/plain": [
       "CompletedProcess(args=['rsync', '-arz', '-v', '-y', '-e ssh -i /home/afonsomm/.ssh/id_rsa -p 11757', '/home/afonsomm/Desktop/data/rsna_iad/train.csv', 'root@79.160.189.79:/workspace/data/'], returncode=0, stdout=b'sending incremental file list\\ntrain.csv\\n\\nsent 111,664 bytes  received 35 bytes  31,914.00 bytes/sec\\ntotal size is 472,480  speedup is 4.23\\n', stderr=b'')"
      ]
     },
     "execution_count": 20,
     "metadata": {},
     "output_type": "execute_result"
    }
   ],
   "source": [
    "vastai.send_file(f\"{os.environ['RSNA_IAD_DATA_DIR']}/train.csv\", \"data/\")"
   ]
  },
  {
   "cell_type": "code",
   "execution_count": 21,
   "id": "c3739adf-6f49-4642-8eb0-c7b731e93899",
   "metadata": {},
   "outputs": [],
   "source": [
    "from nbdev.export import nb_export"
   ]
  },
  {
   "cell_type": "code",
   "execution_count": 22,
   "id": "c4f6c007-2988-459f-aac2-b2dcf9e8d883",
   "metadata": {},
   "outputs": [],
   "source": [
    "nb_export(\"2_dicom_to_nifti_remote.ipynb\", \"../lib\")"
   ]
  },
  {
   "cell_type": "code",
   "execution_count": null,
   "id": "c3fa113a-0c42-4ad8-ba85-372a1769af0f",
   "metadata": {},
   "outputs": [],
   "source": []
  }
 ],
 "metadata": {
  "kernelspec": {
   "display_name": "Python 3 (ipykernel)",
   "language": "python",
   "name": "python3"
  },
  "language_info": {
   "codemirror_mode": {
    "name": "ipython",
    "version": 3
   },
   "file_extension": ".py",
   "mimetype": "text/x-python",
   "name": "python",
   "nbconvert_exporter": "python",
   "pygments_lexer": "ipython3",
   "version": "3.13.9"
  }
 },
 "nbformat": 4,
 "nbformat_minor": 5
}
