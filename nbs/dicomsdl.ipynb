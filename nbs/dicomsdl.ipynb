{
 "cells": [
  {
   "cell_type": "code",
   "execution_count": 1,
   "id": "a8ff8cbb-ba28-4fe0-96dd-63b655f8849f",
   "metadata": {},
   "outputs": [],
   "source": [
    "#|default_exp dicom"
   ]
  },
  {
   "cell_type": "markdown",
   "id": "aea1e20a-d0c9-4ddb-b607-a89ef6ed890a",
   "metadata": {},
   "source": [
    "# DICOMSDL"
   ]
  },
  {
   "cell_type": "markdown",
   "id": "f0d12cb5-5282-4530-835b-456da7c5d75a",
   "metadata": {},
   "source": [
    "Before we used [pydicom](https://pydicom.github.io) to load and work with DICOM data. However, the [dicomsdl](https://github.com/tsangel/dicomsdl) library is faster, since it is written in C++. It also exposes and API in Python. Let's time it:"
   ]
  },
  {
   "cell_type": "code",
   "execution_count": 1,
   "id": "56bce475-1779-46e1-beab-46672dd5ca8e",
   "metadata": {},
   "outputs": [],
   "source": [
    "!pip install -Uqq dicomsdl"
   ]
  },
  {
   "cell_type": "code",
   "execution_count": 2,
   "id": "82e7b700-83a4-447d-8394-1a5b06e5b825",
   "metadata": {},
   "outputs": [],
   "source": [
    "import pydicom\n",
    "import dicomsdl"
   ]
  },
  {
   "cell_type": "code",
   "execution_count": 3,
   "id": "d4413b66-b930-4567-aa6c-13d04342637c",
   "metadata": {},
   "outputs": [],
   "source": [
    "import sys\n",
    "sys.path.append(\"../../lib\")"
   ]
  },
  {
   "cell_type": "code",
   "execution_count": 4,
   "id": "66420b93-8ab3-4ef4-b5d3-e5c1ed94db11",
   "metadata": {},
   "outputs": [],
   "source": [
    "import os"
   ]
  },
  {
   "cell_type": "code",
   "execution_count": 5,
   "id": "85be1cfd-8196-41c4-8aff-2753ab888daf",
   "metadata": {},
   "outputs": [
    {
     "data": {
      "text/plain": [
       "4348"
      ]
     },
     "execution_count": 5,
     "metadata": {},
     "output_type": "execute_result"
    }
   ],
   "source": [
    "series_path_dicom = f\"{os.environ['RSNA_IAD_DATA_DIR']}/series\"\n",
    "series_uid_l = os.listdir(series_path_dicom)\n",
    "len(series_uid_l)"
   ]
  },
  {
   "cell_type": "code",
   "execution_count": 6,
   "id": "1c7b3c30-0359-4ef3-9758-37174eae33d4",
   "metadata": {},
   "outputs": [],
   "source": [
    "def dicom_serie_load(series_base_path, serie_uid, load_callback):\n",
    "\n",
    "    serie_path = f\"{series_base_path}/{serie_uid}\"\n",
    "    instances_filename = os.listdir(serie_path)\n",
    "    n_instances = len(instances_filename)\n",
    "\n",
    "    ds_l = [None] * n_instances\n",
    "    for i, instance_filename in enumerate(instances_filename):\n",
    "        ds_l[i] = load_callback(f\"{serie_path}/{instance_filename}\")\n",
    "\n",
    "    return ds_l"
   ]
  },
  {
   "cell_type": "code",
   "execution_count": 7,
   "id": "1ee67a08-3735-4e76-8248-b7c3c4eb7c90",
   "metadata": {},
   "outputs": [],
   "source": [
    "import random\n",
    "\n",
    "series_uid_sample_l = random.sample(series_uid_l, 10)"
   ]
  },
  {
   "cell_type": "code",
   "execution_count": 8,
   "id": "2d888d3e-b033-43f2-9bfe-36cef3bfcdd5",
   "metadata": {},
   "outputs": [
    {
     "name": "stdout",
     "output_type": "stream",
     "text": [
      "1.1 s ± 20.2 ms per loop (mean ± std. dev. of 7 runs, 1 loop each)\n"
     ]
    }
   ],
   "source": [
    "%%timeit\n",
    "for serie_uid in series_uid_sample_l:\n",
    "    ds_l = dicom_serie_load(series_path_dicom, serie_uid, pydicom.dcmread)"
   ]
  },
  {
   "cell_type": "code",
   "execution_count": 9,
   "id": "4447b65b-a96a-4acc-8ea8-8bf0651d0d70",
   "metadata": {},
   "outputs": [
    {
     "name": "stdout",
     "output_type": "stream",
     "text": [
      "360 ms ± 7.12 ms per loop (mean ± std. dev. of 7 runs, 1 loop each)\n"
     ]
    }
   ],
   "source": [
    "%%timeit\n",
    "for serie_uid in series_uid_sample_l:\n",
    "    ds_l = dicom_serie_load(series_path_dicom, serie_uid, dicomsdl.open)"
   ]
  },
  {
   "cell_type": "markdown",
   "id": "04137d29-58ab-4c07-951b-90a6b0ab1e50",
   "metadata": {},
   "source": [
    "The `dicomsdl` library is ~3x faster at loading the DICOM files data, as it is stored. Now let's also test obtaining the pixel array data:"
   ]
  },
  {
   "cell_type": "code",
   "execution_count": 10,
   "id": "c46ac20d-758a-4668-9cb2-19f85bad364f",
   "metadata": {},
   "outputs": [],
   "source": [
    "def dicom_serie_load_volume(series_base_path, serie_uid, load_callback):\n",
    "\n",
    "    serie_path = f\"{series_base_path}/{serie_uid}\"\n",
    "    instances_filename = os.listdir(serie_path)\n",
    "    n_instances = len(instances_filename)\n",
    "\n",
    "    slices_l = [None] * n_instances\n",
    "    for i, instance_filename in enumerate(instances_filename):\n",
    "        slices_l[i] = load_callback(f\"{serie_path}/{instance_filename}\")\n",
    "\n",
    "    return slices_l"
   ]
  },
  {
   "cell_type": "code",
   "execution_count": 11,
   "id": "57b22db2-15ad-447f-bb14-ffb3b33ff881",
   "metadata": {},
   "outputs": [],
   "source": [
    "def pydicom_callback(x):\n",
    "    return pydicom.dcmread(x).pixel_array\n",
    "\n",
    "def dicomsdl_callback(x):\n",
    "    return dicomsdl.open(x).pixelData(storedvalue=True)"
   ]
  },
  {
   "cell_type": "code",
   "execution_count": 12,
   "id": "6ef62af3-7d39-4d03-9b8d-a5cbefb8b4c2",
   "metadata": {},
   "outputs": [
    {
     "name": "stdout",
     "output_type": "stream",
     "text": [
      "18.3 s ± 45.4 ms per loop (mean ± std. dev. of 7 runs, 1 loop each)\n"
     ]
    }
   ],
   "source": [
    "%%timeit\n",
    "for serie_uid in series_uid_sample_l:\n",
    "    slices_l = dicom_serie_load_volume(series_path_dicom, serie_uid, pydicom_callback)"
   ]
  },
  {
   "cell_type": "code",
   "execution_count": 13,
   "id": "c9418af7-ddb4-433e-b0a3-c3e931ea6dbe",
   "metadata": {},
   "outputs": [
    {
     "name": "stdout",
     "output_type": "stream",
     "text": [
      "1.89 s ± 5.41 ms per loop (mean ± std. dev. of 7 runs, 1 loop each)\n"
     ]
    }
   ],
   "source": [
    "%%timeit\n",
    "for serie_uid in series_uid_sample_l:\n",
    "    slices_l = dicom_serie_load_volume(series_path_dicom, serie_uid, dicomsdl_callback)"
   ]
  },
  {
   "cell_type": "markdown",
   "id": "c49f0419-6f4e-4de9-9b61-176c66923e90",
   "metadata": {},
   "source": [
    "The `dicom_sdl` is ~10x faster when also obtaining the pixel array data, in sequential loading. Now let's test this when loading series in parallel:"
   ]
  },
  {
   "cell_type": "code",
   "execution_count": 14,
   "id": "6d393e3b-71a0-4a8a-b0e1-7f956db10827",
   "metadata": {},
   "outputs": [],
   "source": [
    "from concurrent.futures import ProcessPoolExecutor, as_completed\n",
    "from tqdm import tqdm\n",
    "\n",
    "def dicom_series_load_volume(base_path_dicoms, series_uid, max_workers, load_callback):\n",
    "\n",
    "    n_instances = len(series_uid)\n",
    "    volumes_l = [None] * n_instances\n",
    "    with ProcessPoolExecutor(max_workers=max_workers) as executor:\n",
    "        futures = [executor.submit(dicom_serie_load_volume, base_path_dicoms, serie_uid, load_callback) for serie_uid in series_uid]\n",
    "        for i, future in enumerate(as_completed(futures)):\n",
    "            volumes_l[i] = future.result()\n",
    "\n",
    "    return volumes_l"
   ]
  },
  {
   "cell_type": "code",
   "execution_count": 17,
   "id": "df009789-9acd-44cb-ace2-8d9951bd5a82",
   "metadata": {},
   "outputs": [
    {
     "name": "stdout",
     "output_type": "stream",
     "text": [
      "7.65 s ± 57 ms per loop (mean ± std. dev. of 7 runs, 1 loop each)\n"
     ]
    }
   ],
   "source": [
    "%%timeit\n",
    "slices_l = dicom_series_load_volume(series_path_dicom, series_uid_sample_l, 4, pydicom_callback)"
   ]
  },
  {
   "cell_type": "code",
   "execution_count": 18,
   "id": "ff60704c-5521-47a7-bf59-78371565ddd7",
   "metadata": {},
   "outputs": [
    {
     "name": "stdout",
     "output_type": "stream",
     "text": [
      "2.58 s ± 37.9 ms per loop (mean ± std. dev. of 7 runs, 1 loop each)\n"
     ]
    }
   ],
   "source": [
    "%%timeit\n",
    "slices_l = dicom_series_load_volume(series_path_dicom, series_uid_sample_l, 4, dicomsdl_callback)"
   ]
  },
  {
   "cell_type": "markdown",
   "id": "f800e854-d997-4cc0-b58c-a2daa2ff0b4c",
   "metadata": {},
   "source": [
    "With parallelization, `dicomsdl` is ~3x faster."
   ]
  },
  {
   "cell_type": "code",
   "execution_count": null,
   "id": "3562b658-d2d9-4eb3-86ad-4123a534090c",
   "metadata": {},
   "outputs": [],
   "source": []
  }
 ],
 "metadata": {
  "kernelspec": {
   "display_name": "Python 3 (ipykernel)",
   "language": "python",
   "name": "python3"
  },
  "language_info": {
   "codemirror_mode": {
    "name": "ipython",
    "version": 3
   },
   "file_extension": ".py",
   "mimetype": "text/x-python",
   "name": "python",
   "nbconvert_exporter": "python",
   "pygments_lexer": "ipython3",
   "version": "3.13.9"
  }
 },
 "nbformat": 4,
 "nbformat_minor": 5
}
