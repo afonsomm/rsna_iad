{
 "cells": [
  {
   "cell_type": "markdown",
   "id": "69125a12-40e6-45e3-8b5e-b8b4bf29c279",
   "metadata": {},
   "source": [
    "# Finetuning Models"
   ]
  },
  {
   "cell_type": "markdown",
   "id": "eabb3920-e871-46d2-a446-8c76cf77f572",
   "metadata": {},
   "source": [
    "Here we will construct a pipeline to efficiently make experiments and finetune pretrained models for volumes of data (3D inputs)."
   ]
  },
  {
   "cell_type": "code",
   "execution_count": 1,
   "id": "efa2e973-ee21-42a7-85a8-8ef6a1815a9d",
   "metadata": {},
   "outputs": [],
   "source": [
    "import os\n",
    "\n",
    "base_path_dicom = f\"{os.environ['RSNA_IAD_DATA_DIR']}\"\n",
    "series_path_dicom = f\"{base_path_dicom}/series\"\n",
    "\n",
    "base_path_nifti = f\"{os.environ['RSNA_IAD_DATA_DIR']}/nifti_data\"\n",
    "series_path_nifti = f\"{base_path_nifti}/series\""
   ]
  },
  {
   "cell_type": "code",
   "execution_count": 2,
   "id": "f10a0089-72e5-4ef8-825c-66b6c97ec3d5",
   "metadata": {},
   "outputs": [
    {
     "data": {
      "text/html": [
       "<div><style>\n",
       ".dataframe > thead > tr,\n",
       ".dataframe > tbody > tr {\n",
       "  text-align: right;\n",
       "  white-space: pre-wrap;\n",
       "}\n",
       "</style>\n",
       "<small>shape: (2, 18)</small><table border=\"1\" class=\"dataframe\"><thead><tr><th>SeriesInstanceUID</th><th>PatientAge</th><th>PatientSex</th><th>Modality</th><th>Left Infraclinoid Internal Carotid Artery</th><th>Right Infraclinoid Internal Carotid Artery</th><th>Left Supraclinoid Internal Carotid Artery</th><th>Right Supraclinoid Internal Carotid Artery</th><th>Left Middle Cerebral Artery</th><th>Right Middle Cerebral Artery</th><th>Anterior Communicating Artery</th><th>Left Anterior Cerebral Artery</th><th>Right Anterior Cerebral Artery</th><th>Left Posterior Communicating Artery</th><th>Right Posterior Communicating Artery</th><th>Basilar Tip</th><th>Other Posterior Circulation</th><th>Aneurysm Present</th></tr><tr><td>str</td><td>i64</td><td>str</td><td>str</td><td>i64</td><td>i64</td><td>i64</td><td>i64</td><td>i64</td><td>i64</td><td>i64</td><td>i64</td><td>i64</td><td>i64</td><td>i64</td><td>i64</td><td>i64</td><td>i64</td></tr></thead><tbody><tr><td>&quot;1.2.826.0.1.3680043.8.498.1000…</td><td>64</td><td>&quot;Female&quot;</td><td>&quot;MRA&quot;</td><td>0</td><td>0</td><td>0</td><td>0</td><td>0</td><td>0</td><td>0</td><td>0</td><td>0</td><td>0</td><td>0</td><td>0</td><td>0</td><td>0</td></tr><tr><td>&quot;1.2.826.0.1.3680043.8.498.1000…</td><td>76</td><td>&quot;Female&quot;</td><td>&quot;MRA&quot;</td><td>0</td><td>0</td><td>0</td><td>0</td><td>0</td><td>0</td><td>0</td><td>0</td><td>0</td><td>0</td><td>0</td><td>0</td><td>0</td><td>0</td></tr></tbody></table></div>"
      ],
      "text/plain": [
       "shape: (2, 18)\n",
       "┌───────────┬───────────┬───────────┬──────────┬───┬───────────┬───────────┬───────────┬───────────┐\n",
       "│ SeriesIns ┆ PatientAg ┆ PatientSe ┆ Modality ┆ … ┆ Right     ┆ Basilar   ┆ Other     ┆ Aneurysm  │\n",
       "│ tanceUID  ┆ e         ┆ x         ┆ ---      ┆   ┆ Posterior ┆ Tip       ┆ Posterior ┆ Present   │\n",
       "│ ---       ┆ ---       ┆ ---       ┆ str      ┆   ┆ Communica ┆ ---       ┆ Circulati ┆ ---       │\n",
       "│ str       ┆ i64       ┆ str       ┆          ┆   ┆ ting …    ┆ i64       ┆ on        ┆ i64       │\n",
       "│           ┆           ┆           ┆          ┆   ┆ ---       ┆           ┆ ---       ┆           │\n",
       "│           ┆           ┆           ┆          ┆   ┆ i64       ┆           ┆ i64       ┆           │\n",
       "╞═══════════╪═══════════╪═══════════╪══════════╪═══╪═══════════╪═══════════╪═══════════╪═══════════╡\n",
       "│ 1.2.826.0 ┆ 64        ┆ Female    ┆ MRA      ┆ … ┆ 0         ┆ 0         ┆ 0         ┆ 0         │\n",
       "│ .1.368004 ┆           ┆           ┆          ┆   ┆           ┆           ┆           ┆           │\n",
       "│ 3.8.498.1 ┆           ┆           ┆          ┆   ┆           ┆           ┆           ┆           │\n",
       "│ 000…      ┆           ┆           ┆          ┆   ┆           ┆           ┆           ┆           │\n",
       "│ 1.2.826.0 ┆ 76        ┆ Female    ┆ MRA      ┆ … ┆ 0         ┆ 0         ┆ 0         ┆ 0         │\n",
       "│ .1.368004 ┆           ┆           ┆          ┆   ┆           ┆           ┆           ┆           │\n",
       "│ 3.8.498.1 ┆           ┆           ┆          ┆   ┆           ┆           ┆           ┆           │\n",
       "│ 000…      ┆           ┆           ┆          ┆   ┆           ┆           ┆           ┆           │\n",
       "└───────────┴───────────┴───────────┴──────────┴───┴───────────┴───────────┴───────────┴───────────┘"
      ]
     },
     "metadata": {},
     "output_type": "display_data"
    }
   ],
   "source": [
    "import polars as pl\n",
    "\n",
    "df = pl.read_csv(f\"{base_path_dicom}/train.csv\")\n",
    "display(df.head(2))\n",
    "\n",
    "LOCATION_LABELS_COLNAME = [\n",
    "    'Left Infraclinoid Internal Carotid Artery',\n",
    "    'Right Infraclinoid Internal Carotid Artery',\n",
    "    'Left Supraclinoid Internal Carotid Artery',\n",
    "    'Right Supraclinoid Internal Carotid Artery',\n",
    "    'Left Middle Cerebral Artery',\n",
    "    'Right Middle Cerebral Artery',\n",
    "    'Anterior Communicating Artery',\n",
    "    'Left Anterior Cerebral Artery',\n",
    "    'Right Anterior Cerebral Artery',\n",
    "    'Left Posterior Communicating Artery',\n",
    "    'Right Posterior Communicating Artery',\n",
    "    'Basilar Tip',\n",
    "    'Other Posterior Circulation',\n",
    "]\n",
    "\n",
    "LABELS_COLNAME =  LOCATION_LABELS_COLNAME + ['Aneurysm Present']"
   ]
  },
  {
   "cell_type": "code",
   "execution_count": 3,
   "id": "f12925be-f372-4142-b71f-764ac6ece925",
   "metadata": {},
   "outputs": [],
   "source": [
    "import nibabel\n",
    "import torch\n",
    "\n",
    "def nifti_load(series_base_path, serie_uid):\n",
    "    nifti = nibabel.load(f\"{series_base_path}/{serie_uid}.nii.gz\")\n",
    "    return nifti\n",
    "\n",
    "def nifti_process(nifti):\n",
    "    volume = torch.from_numpy(nifti.get_fdata()).to(torch.float32)\n",
    "    metadata = nifti.header\n",
    "    return volume, metadata \n",
    "\n",
    "def nifti_get_spacing(metadata):\n",
    "    return torch.tensor(nifti.header.get_zooms())"
   ]
  },
  {
   "cell_type": "code",
   "execution_count": null,
   "id": "e8720e36-a194-4736-a907-d6694f32c50b",
   "metadata": {},
   "outputs": [],
   "source": [
    "serie_uid = df[\"SeriesInstanceUID\"][0]\n",
    "nifti = nifti_load(series_path_nifti, serie_uid)\n",
    "volume, nifti_metadata = nifti_process(nifti)"
   ]
  },
  {
   "cell_type": "code",
   "execution_count": null,
   "id": "987e01c4-5388-4565-9308-8fd201f466e7",
   "metadata": {},
   "outputs": [],
   "source": [
    "print(volume.shape)\n",
    "print(nifti_get_spacing(nifti_metadata))"
   ]
  },
  {
   "cell_type": "code",
   "execution_count": 6,
   "id": "17cadc9c-d91a-46bb-bdec-963830860800",
   "metadata": {},
   "outputs": [],
   "source": [
    "import torch.nn.functional as F\n",
    "\n",
    "class NormalizeSpacing:\n",
    "\n",
    "    def __init__(self, interp_mode, domain_spacings_dict, get_metadata):\n",
    "        self.interp_mode = interp_mode\n",
    "        self.domain_spacings_dict = domain_spacings_dict\n",
    "        self.get_metadata = get_metadata        \n",
    "\n",
    "    def transform(self, volume, domain, spacing):\n",
    "\n",
    "        assert volume.dtype == torch.float32, \\\n",
    "        \"Pixel array data has to be of type torch.float32.\"\n",
    "        assert len(volume.shape) == 5, \\\n",
    "        \"Volume array must have 5 dimensions, i.e. (batch_size, channel_count, z, y, x)\"\n",
    "                \n",
    "        domain_spacing = torch.tensor(self.domain_spacings_dict[domain])\n",
    "        target_size = (torch.tensor(volume.shape[2:], dtype=torch.float32) / spacing * domain_spacing).to(torch.int32)\n",
    "        volume = F.interpolate(volume, size=tuple(target_size), mode=self.interp_mode)\n",
    "    \n",
    "        return volume"
   ]
  },
  {
   "cell_type": "code",
   "execution_count": 7,
   "id": "0cc1b2ff-a9ef-485c-b1b2-09b0e29525ef",
   "metadata": {},
   "outputs": [],
   "source": [
    "class NormalizeSizeInterp:\n",
    "\n",
    "    get_metadata = None\n",
    "    \n",
    "    def __init__(self, target_size, mode):\n",
    "        self.target_size = target_size\n",
    "        self.mode = mode    \n",
    "\n",
    "    def transform(self, volume):\n",
    "    \n",
    "        assert volume.dtype == torch.float32, \\\n",
    "        \"Pixel array data has to be of type torch.float32\"\n",
    "        \n",
    "        volume = F.interpolate(volume, size=self.target_size, mode=self.mode)\n",
    "        return volume"
   ]
  },
  {
   "cell_type": "code",
   "execution_count": 8,
   "id": "5bb4182b-47dc-4731-9a2e-17f68dcfe208",
   "metadata": {},
   "outputs": [],
   "source": [
    "import numpy as np\n",
    "\n",
    "class PercentileCropIntensity:\n",
    "\n",
    "    get_metadata = None\n",
    "\n",
    "    def __init__(self, percentiles):\n",
    "        self.percentiles = percentiles\n",
    "    \n",
    "    def transform(self, volume):\n",
    "        percentiles = np.percentile(volume.flatten().detach().cpu().numpy(), self.percentiles)\n",
    "        volume = torch.clamp(volume, min=percentiles[0], max=percentiles[1])\n",
    "        return volume"
   ]
  },
  {
   "cell_type": "code",
   "execution_count": 9,
   "id": "6283cc3a-2db3-4b3b-9a87-adb97bd62478",
   "metadata": {},
   "outputs": [],
   "source": [
    "class StandardizeIntensity:\n",
    "\n",
    "    get_metadata = None\n",
    "    \n",
    "    def transform(self, volume):\n",
    "\n",
    "        assert volume.dtype == torch.float32, \\\n",
    "        \"Pixel array data has to be of type torch.float32\"\n",
    "    \n",
    "        volume = (volume - volume.mean()) / volume.std()\n",
    "        \n",
    "        return volume"
   ]
  },
  {
   "cell_type": "code",
   "execution_count": 10,
   "id": "9ed934e5-3a5a-4dbc-963b-493dd726c5f8",
   "metadata": {},
   "outputs": [],
   "source": [
    "class Dataset(torch.utils.data.Dataset):\n",
    "\n",
    "    def __init__(self, path, series_uid_l, labels, transforms):\n",
    "        self.path = path\n",
    "        self.series_uid_l = series_uid_l\n",
    "        self.labels = labels\n",
    "        self.transforms = transforms\n",
    "\n",
    "        self.n = len(self.series_uid_l)\n",
    "    \n",
    "    def __len__(self):\n",
    "        return self.n"
   ]
  },
  {
   "cell_type": "markdown",
   "id": "9db4384c-e648-49d9-a63b-2cb15826133f",
   "metadata": {},
   "source": [
    "We will change the `NiftiDataset` class to store `torch.Tensor`s in `.pt` files, so the first epoch is slower, due to loading NifTI files and pre-processing the volumes, but subsequent epochs will load the processed volumes directly from the files:"
   ]
  },
  {
   "cell_type": "code",
   "execution_count": 11,
   "id": "94ff2502-ef79-4339-9fae-2320283b412c",
   "metadata": {},
   "outputs": [],
   "source": [
    "class NiftiDataset(Dataset):\n",
    "\n",
    "    def __init__(self, path, series_uid_l, labels, transforms, cache_path):\n",
    "        super().__init__(path, series_uid_l, labels, transforms)\n",
    "        self.cache_path = cache_path\n",
    "        if not os.path.exists(self.cache_path):\n",
    "            os.mkdir(self.cache_path)\n",
    "\n",
    "    def __getitem__(self, idx):\n",
    "\n",
    "        serie_uid = self.series_uid_l[idx]\n",
    "        label = self.labels[idx]\n",
    "\n",
    "        if os.path.exists(f\"{self.cache_path}/{serie_uid}.pt\"):\n",
    "            volume = torch.load(f\"{self.cache_path}/{serie_uid}.pt\")\n",
    "        else:\n",
    "            nifti = nifti_load(self.path, serie_uid)\n",
    "            volume, metadata = nifti_process(nifti)\n",
    "            volume = volume.unsqueeze(0).unsqueeze(0)\n",
    "    \n",
    "            for transform in transforms:\n",
    "                if transform.get_metadata is not None:\n",
    "                    transform_metadata = transform.get_metadata(idx, metadata)\n",
    "                    volume = transform.transform(volume, *transform_metadata)\n",
    "                else:\n",
    "                    volume = transform.transform(volume)\n",
    "\n",
    "            torch.save(volume, f\"{self.cache_path}/{serie_uid}.pt\")\n",
    "\n",
    "        return volume[0], label"
   ]
  },
  {
   "cell_type": "code",
   "execution_count": 12,
   "id": "c45d567b-6b59-4190-9ad5-3db1c7a05238",
   "metadata": {},
   "outputs": [],
   "source": [
    "import multiprocessing\n",
    "\n",
    "class NiftiDataLoader:\n",
    "\n",
    "    def __init__(self, path, series_uid_l, labels, unit_transforms,\n",
    "                 shuffle, batch_size, pin_memory, num_workers, cache_path):\n",
    "        dataset = NiftiDataset(path, series_uid_l, labels, unit_transforms, cache_path=cache_path)\n",
    "        self.loader = torch.utils.data.DataLoader(dataset, batch_size=batch_size,\n",
    "                                                  shuffle=shuffle, pin_memory=pin_memory,\n",
    "                                                  num_workers=num_workers)\n",
    "\n",
    "    def __iter__(self):\n",
    "        for volumes, labels in self.loader:\n",
    "            yield volumes, labels"
   ]
  },
  {
   "cell_type": "markdown",
   "id": "3d345003-061a-44eb-825b-a5b17f26ccfe",
   "metadata": {},
   "source": [
    "We need to split the data in train and validation. But doing that taking into account every label will result in stratification groups with only one sample, and we need at least two samples per group. So I took a simple approach of sequentially going through the labels' columns and assigning them a number. For each column, if the previous column corresponding row already has a number equal to 0 and there is a 1 at this column's row (indicating there is an aneurysm at that location), then we assign it the current column's index+1. With this we construct the \"stratify\" column, where 0 means no aneurysm, and 1..n means the location where there is an aneurysm (though there can be multiple location, this is not taked into account here).\n",
    "\n",
    ">Note: this is not good, because later columns will not be as well represented as in the original dataset. I could have ordered the columns by number of samples with aneurysms at that location, and then used the apporach above. That would still have that effect but for the dominant classes, so it is not as bad I would say."
   ]
  },
  {
   "cell_type": "code",
   "execution_count": 13,
   "id": "69c2349e-c4ff-4578-8210-a96a5b8158eb",
   "metadata": {},
   "outputs": [
    {
     "data": {
      "text/html": [
       "<div><style>\n",
       ".dataframe > thead > tr,\n",
       ".dataframe > tbody > tr {\n",
       "  text-align: right;\n",
       "  white-space: pre-wrap;\n",
       "}\n",
       "</style>\n",
       "<small>shape: (2, 19)</small><table border=\"1\" class=\"dataframe\"><thead><tr><th>SeriesInstanceUID</th><th>PatientAge</th><th>PatientSex</th><th>Modality</th><th>Left Infraclinoid Internal Carotid Artery</th><th>Right Infraclinoid Internal Carotid Artery</th><th>Left Supraclinoid Internal Carotid Artery</th><th>Right Supraclinoid Internal Carotid Artery</th><th>Left Middle Cerebral Artery</th><th>Right Middle Cerebral Artery</th><th>Anterior Communicating Artery</th><th>Left Anterior Cerebral Artery</th><th>Right Anterior Cerebral Artery</th><th>Left Posterior Communicating Artery</th><th>Right Posterior Communicating Artery</th><th>Basilar Tip</th><th>Other Posterior Circulation</th><th>Aneurysm Present</th><th>stratify</th></tr><tr><td>str</td><td>i64</td><td>str</td><td>str</td><td>i64</td><td>i64</td><td>i64</td><td>i64</td><td>i64</td><td>i64</td><td>i64</td><td>i64</td><td>i64</td><td>i64</td><td>i64</td><td>i64</td><td>i64</td><td>i64</td><td>i32</td></tr></thead><tbody><tr><td>&quot;1.2.826.0.1.3680043.8.498.1000…</td><td>64</td><td>&quot;Female&quot;</td><td>&quot;MRA&quot;</td><td>0</td><td>0</td><td>0</td><td>0</td><td>0</td><td>0</td><td>0</td><td>0</td><td>0</td><td>0</td><td>0</td><td>0</td><td>0</td><td>0</td><td>0</td></tr><tr><td>&quot;1.2.826.0.1.3680043.8.498.1000…</td><td>76</td><td>&quot;Female&quot;</td><td>&quot;MRA&quot;</td><td>0</td><td>0</td><td>0</td><td>0</td><td>0</td><td>0</td><td>0</td><td>0</td><td>0</td><td>0</td><td>0</td><td>0</td><td>0</td><td>0</td><td>0</td></tr></tbody></table></div>"
      ],
      "text/plain": [
       "shape: (2, 19)\n",
       "┌────────────┬───────────┬───────────┬──────────┬───┬───────────┬───────────┬───────────┬──────────┐\n",
       "│ SeriesInst ┆ PatientAg ┆ PatientSe ┆ Modality ┆ … ┆ Basilar   ┆ Other     ┆ Aneurysm  ┆ stratify │\n",
       "│ anceUID    ┆ e         ┆ x         ┆ ---      ┆   ┆ Tip       ┆ Posterior ┆ Present   ┆ ---      │\n",
       "│ ---        ┆ ---       ┆ ---       ┆ str      ┆   ┆ ---       ┆ Circulati ┆ ---       ┆ i32      │\n",
       "│ str        ┆ i64       ┆ str       ┆          ┆   ┆ i64       ┆ on        ┆ i64       ┆          │\n",
       "│            ┆           ┆           ┆          ┆   ┆           ┆ ---       ┆           ┆          │\n",
       "│            ┆           ┆           ┆          ┆   ┆           ┆ i64       ┆           ┆          │\n",
       "╞════════════╪═══════════╪═══════════╪══════════╪═══╪═══════════╪═══════════╪═══════════╪══════════╡\n",
       "│ 1.2.826.0. ┆ 64        ┆ Female    ┆ MRA      ┆ … ┆ 0         ┆ 0         ┆ 0         ┆ 0        │\n",
       "│ 1.3680043. ┆           ┆           ┆          ┆   ┆           ┆           ┆           ┆          │\n",
       "│ 8.498.1000 ┆           ┆           ┆          ┆   ┆           ┆           ┆           ┆          │\n",
       "│ …          ┆           ┆           ┆          ┆   ┆           ┆           ┆           ┆          │\n",
       "│ 1.2.826.0. ┆ 76        ┆ Female    ┆ MRA      ┆ … ┆ 0         ┆ 0         ┆ 0         ┆ 0        │\n",
       "│ 1.3680043. ┆           ┆           ┆          ┆   ┆           ┆           ┆           ┆          │\n",
       "│ 8.498.1000 ┆           ┆           ┆          ┆   ┆           ┆           ┆           ┆          │\n",
       "│ …          ┆           ┆           ┆          ┆   ┆           ┆           ┆           ┆          │\n",
       "└────────────┴───────────┴───────────┴──────────┴───┴───────────┴───────────┴───────────┴──────────┘"
      ]
     },
     "execution_count": 13,
     "metadata": {},
     "output_type": "execute_result"
    }
   ],
   "source": [
    "df = df.with_columns(stratify=0)\n",
    "\n",
    "for i, label in enumerate(LOCATION_LABELS_COLNAME):\n",
    "    df = df.with_columns(pl.when((pl.col(label) == 1) & (pl.col(\"stratify\") == 0)).then(i+1).otherwise(pl.col(\"stratify\")).alias(\"stratify\"))\n",
    "\n",
    "df.head(2)"
   ]
  },
  {
   "cell_type": "code",
   "execution_count": null,
   "id": "d3e97132-a496-462e-b27d-8a1ad0d92386",
   "metadata": {},
   "outputs": [],
   "source": [
    "# Train/Validation Split\n",
    "from sklearn.model_selection import train_test_split\n",
    "\n",
    "df_train, df_val = train_test_split(df, train_size=0.75, random_state=0, stratify=df[\"stratify\"], shuffle=True)"
   ]
  },
  {
   "cell_type": "markdown",
   "id": "bccc7b55-ff13-4033-a5f2-9b9588bceb82",
   "metadata": {},
   "source": [
    "To sample the training set for faster experiments, I decided to get a similar number of samples for each value in the \"stratify\" column corresponding to an aneurysm, and then the number of samples with no aneurysms equal to the total amount of samples with aneurysms. \n",
    "\n",
    ">Note: The sampling already can have the effect of distribution shift between training and validation, and sampling the dataset to balance the number of samples for each class (essentially undersampling) can have that effect to. So this may not be a good practice."
   ]
  },
  {
   "cell_type": "code",
   "execution_count": 78,
   "id": "c4cebccb-4bb6-435e-821c-54d9f2dc4a98",
   "metadata": {},
   "outputs": [],
   "source": [
    "# Sample df\n",
    "n_per_class = int(0.05 * df_train.shape[0] / len(LOCATION_LABELS_COLNAME))\n",
    "\n",
    "np.random.seed(0)\n",
    "index = np.arange(df_train.shape[0])\n",
    "np.random.shuffle(index)\n",
    "\n",
    "df_train_shuffled = df_train[index]\n",
    "aneurysm_sample_df = df_train_shuffled.filter(df_train_shuffled[\"stratify\"] != 0).group_by(\"stratify\").head(n_per_class)\n",
    "no_aneurysm_sample_df = df_train_shuffled.filter(df_train_shuffled[\"stratify\"] == 0).head(aneurysm_sample_df.shape[0])\n",
    "\n",
    "df_train_sample = pl.concat((aneurysm_sample_df.drop(\"stratify\"), no_aneurysm_sample_df.drop(\"stratify\")))"
   ]
  },
  {
   "cell_type": "code",
   "execution_count": 82,
   "id": "d09ace7b-9f46-47fc-8ac4-f322ad7f5de6",
   "metadata": {},
   "outputs": [
    {
     "data": {
      "image/png": "[encoded data removed]",
      "text/plain": [
       "<Figure size 1500x500 with 1 Axes>"
      ]
     },
     "metadata": {},
     "output_type": "display_data"
    }
   ],
   "source": [
    "import matplotlib.pyplot as plt\n",
    "\n",
    "def bar_plot(xs, ys, x_label, y_label, figsize, axis, horizontal):\n",
    "\n",
    "    show_plot = False\n",
    "    if axis is None:\n",
    "        if len(plt.get_fignums()) > 0:\n",
    "            axis = plt.gca()\n",
    "        else:\n",
    "            fig, axis = plt.subplots(figsize=figsize)\n",
    "            show_plot = True\n",
    "        \n",
    "    if horizontal:\n",
    "        bars = axis.barh(xs, ys)\n",
    "    else:\n",
    "        bars = axis.bar(xs, ys)\n",
    "\n",
    "    total = ys.sum()\n",
    "    axis.bar_label(bars, labels=[f\"{y} ({round(y / total * 100)}%)\" for y in ys])\n",
    "\n",
    "    axis.set_xlabel(x_label)\n",
    "    axis.set_ylabel(y_label)\n",
    "\n",
    "    if show_plot is True:\n",
    "        plt.show()\n",
    "\n",
    "figsize=(15,5)\n",
    "\n",
    "# No. samples with aneurysms of each type\n",
    "n_aneurysms_by_location = df_train_sample[LOCATION_LABELS_COLNAME].sum()\n",
    "bar_plot(n_aneurysms_by_location.columns, n_aneurysms_by_location.to_numpy()[0], \"Location\", \"No. Samples\", figsize, None, True)"
   ]
  },
  {
   "cell_type": "markdown",
   "id": "5fbc7eac-95e7-4978-a03d-e48a69e434e1",
   "metadata": {},
   "source": [
    "Let's create a function that creates the `DataLoader`:"
   ]
  },
  {
   "cell_type": "code",
   "execution_count": 83,
   "id": "a654123b-0725-4180-900f-303f6877a90a",
   "metadata": {},
   "outputs": [],
   "source": [
    "def loader_create(df):\n",
    "\n",
    "    volume_domain_median_spacing_dict = {\n",
    "        \"CTA\": (0.46875, 0.46875, 0.8),\n",
    "        \"MRA\": (0.410156, 0.410156, 0.6),\n",
    "        \"MRI T1post\": (0.5, 0.5, 1.2),\n",
    "        \"MRI T2\": (0.5, 0.5, 5.)\n",
    "    }\n",
    "\n",
    "    def get_metadata_nifti(idx, metadata):\n",
    "        modality = df[\"Modality\"][idx]\n",
    "        spacing = nifti_get_spacing(metadata)\n",
    "        return modality, spacing\n",
    "\n",
    "    transforms = [\n",
    "        NormalizeSpacing(\"trilinear\", volume_domain_median_spacing_dict, get_metadata_nifti),\n",
    "        PercentileCropIntensity(percentiles=(0.5, 99.5)),\n",
    "        StandardizeIntensity(), \n",
    "        NormalizeSizeInterp((32, 224, 224), \"nearest\")\n",
    "    ]\n",
    "\n",
    "    loader = NiftiDataLoader(series_path_nifti, \n",
    "                             list(df[\"SeriesInstanceUID\"]), \n",
    "                             torch.from_numpy(df[LABELS_COLNAME].to_numpy()),\n",
    "                             transforms, \n",
    "                             shuffle=True, batch_size=4, pin_memory=True, num_workers=4, \n",
    "                             cache_path=f\"{base_path_nifti}/cache\")\n",
    "    \n",
    "    return loader"
   ]
  },
  {
   "cell_type": "markdown",
   "id": "be4370cc-8c26-47f4-9011-00da8cd1e34b",
   "metadata": {},
   "source": [
    "We will use pretrained ResNets, trained on 23 different datasets of different organs. These are the result of the [Med3D study](\n",
    "https://doi.org/10.48550/arXiv.1904.00625). Here i load the model from the [Warvito/MedicalNet-models](https://github.com/Warvito/MedicalNet-models) GitHub repository:"
   ]
  },
  {
   "cell_type": "code",
   "execution_count": 84,
   "id": "a3bca11d-6473-428e-989e-2c41117697e3",
   "metadata": {},
   "outputs": [],
   "source": [
    "from torch import nn\n",
    "from torch.nn import functional as F\n",
    "\n",
    "class PretrainedMedResNet(nn.Module):\n",
    "\n",
    "    out_channels = {\n",
    "        \"medicalnet_resnet10_23datasets\": 512,\n",
    "        \"medicalnet_resnet50_23datasets\": 2048,\n",
    "    }\n",
    "    \n",
    "    def __init__(self, model_name, out_features):\n",
    "        super().__init__()\n",
    "        pretrained = torch.hub.load(\"Warvito/MedicalNet-models\", model_name, trust_repo=True)\n",
    "        pretrained.eval()\n",
    "        self.pretrained = pretrained\n",
    "        self.global_avg_pooling = nn.AdaptiveAvgPool3d((1, 1, 1))\n",
    "        self.linear = nn.Linear(self.out_channels[model_name], out_features, bias=False)\n",
    "        self.linear.weight = nn.init.xavier_normal_(self.linear.weight)\n",
    "\n",
    "    def forward(self, x):\n",
    "        x = self.pretrained.forward(x)\n",
    "        x = self.global_avg_pooling(x)\n",
    "        x = x.squeeze(dim=(2,3,4))\n",
    "        x = self.linear(x)\n",
    "        if not self.training:  # training uses BCEWithLogitsLoss\n",
    "            x = F.sigmoid(x)\n",
    "\n",
    "        return x"
   ]
  },
  {
   "cell_type": "markdown",
   "id": "c8741083-af12-436a-8306-7b31565e277d",
   "metadata": {},
   "source": [
    "So the pre-trained model is followed by a Global Average Pooling layer and then by a Fully Connected Linear Layer. The Global Average Pooling is to reduce the dimensionality of the model before applying the fully connected layer, making the latter simpler with the goal of preventing overfitting. The number of inputs to the final Linear Layers were obtained by looking at the number of channels returned by the last `BatchNormalization` layer in the ResNets.\n",
    "\n",
    "The logits from the final Linear Layer are outputted as is during training, since we will be using Binary Cross Entroppy that takes the logits as inputs, which is more numerically stable."
   ]
  },
  {
   "cell_type": "code",
   "execution_count": 85,
   "id": "0a17ef04-68ce-49ec-8490-36e1b8dd4038",
   "metadata": {},
   "outputs": [],
   "source": [
    "if torch.cuda.is_available():\n",
    "    device = \"cuda\"\n",
    "else:\n",
    "    device = \"cpu\""
   ]
  },
  {
   "cell_type": "markdown",
   "id": "c61a37ce-eb78-4603-9c5e-19b4cd838e32",
   "metadata": {},
   "source": [
    "Here I write the finetuning function that takes a training and validation loader, for the training and validation sets, respectively, the model to finetune, the maximum number of epochs to train, and the path to store the model at. It takes the maximum number of epochs to train because it uses Early Stopping, meaning the training stops once the model stops improving its performance on the validation set. Here, we use 10 epochs of patience with a tolerance of 0.001, meaning the model has to improve more than 0.001 for the improvement to be considered, and if it does not improve for 10 epochs on the validation set, then training stops.\n",
    "\n",
    "On the validation set we use the metric that will be used during the testing phase, which is the average of the Area Under the ROC curve for the samples with aneurym for each location, averaged with the same metric for the samples with any kind of aneurysm.\n",
    "\n",
    "We apply a post processing to the prediction, so the last column which indicates if there is an aneurysm in any location is always in accordance with the others columns.\n",
    "\n",
    ">Note: I forgot to save the model on the epoch were the performance stopped improving, and saved the one after the 10 patience epochs, which is incorrect."
   ]
  },
  {
   "cell_type": "code",
   "execution_count": 86,
   "id": "1032d465-64ff-41d7-9555-d479f3e30e9c",
   "metadata": {},
   "outputs": [],
   "source": [
    "from tqdm import tqdm\n",
    "from sklearn.metrics import roc_auc_score\n",
    "\n",
    "def finetune(train_loader, val_loader, model, n_epochs_max, save_model_path):\n",
    "\n",
    "    loss_f = nn.BCEWithLogitsLoss()\n",
    "\n",
    "    lr = 0.0001\n",
    "    optimizer = torch.optim.Adam(model.parameters(), lr=lr)\n",
    "    scheduler = torch.optim.lr_scheduler.CosineAnnealingLR(optimizer, T_max=n_epochs_max)\n",
    "    \n",
    "    loss_l = []\n",
    "    val_score_l = []\n",
    "    best_val_score = None\n",
    "    state_dict = None\n",
    "    early_stopping_patience = 10\n",
    "    early_stopping_patience_curr = 0\n",
    "    \n",
    "    for i in range(n_epochs_max):\n",
    "        epoch_loss = 0\n",
    "\n",
    "        # Train\n",
    "        model = model.train()\n",
    "        for volumes, labels in train_loader:\n",
    "            volumes = volumes.to(device)\n",
    "            labels = labels.to(torch.float32).to(device)\n",
    "\n",
    "            # remove volumes with nan values\n",
    "            invalid_volumes_mask = ~volumes.isnan().flatten(start_dim=1).any(dim=1)\n",
    "            volumes = volumes[invalid_volumes_mask]\n",
    "            labels = labels[invalid_volumes_mask]\n",
    "            \n",
    "            optimizer.zero_grad()\n",
    "    \n",
    "            scores = model.forward(volumes)\n",
    "    \n",
    "            if scores.isnan().sum() > 0:\n",
    "                raise Exception(\"Corrupted model.\")\n",
    "            \n",
    "            loss = loss_f(scores, labels)\n",
    "            epoch_loss += loss.item()\n",
    "    \n",
    "            loss.backward()\n",
    "            optimizer.step()\n",
    "            scheduler.step()\n",
    "    \n",
    "        epoch_loss /= len(train_loader.loader)\n",
    "        loss_l.append(epoch_loss)\n",
    "\n",
    "        if not val_loader:\n",
    "            print(f\"Epoch {i}; Train Loss {epoch_loss}\")\n",
    "        else:\n",
    "            # Validate\n",
    "            model.eval()\n",
    "            scores_l = []\n",
    "            labels_l = []\n",
    "            with torch.no_grad():\n",
    "                for volumes, labels in val_loader:\n",
    "                    volumes = volumes.to(device)\n",
    "                    labels = labels.to(torch.float32).to(device)\n",
    "\n",
    "                    volumes = volumes.nan_to_num() # fill missing values with 0.0\n",
    "                    \n",
    "                    scores = model.forward(volumes)\n",
    "                    \n",
    "                    if scores.isnan().sum() > 0:\n",
    "                        raise Exception(\"Corrupted model.\")\n",
    "    \n",
    "                    scores_l.append(scores)\n",
    "                    labels_l.append(labels)\n",
    "    \n",
    "            scores_pt = torch.vstack(scores_l).detach().cpu().numpy()\n",
    "            labels_pt = torch.vstack(labels_l).detach().cpu().numpy()\n",
    "    \n",
    "            # -- Predictions post-processing\n",
    "            for j in range(scores_pt.shape[0]):\n",
    "                if any(scores_pt[j, :-1] > 0.5):\n",
    "                    scores_pt[j, -1] = 1.0\n",
    "                else:\n",
    "                    scores_pt[j, -1] = 0.0\n",
    "\n",
    "            # -- Calculate validation metric\n",
    "            roc_auc = roc_auc_score(labels_pt, scores_pt, average=None)\n",
    "            val_score = (roc_auc[-1] + roc_auc[:-1].mean()) * 0.5\n",
    "            val_score_l.append(val_score)\n",
    "            \n",
    "            print(f\"Epoch {i}; Train Loss {epoch_loss}; Validation Score {val_score}\")\n",
    "    \n",
    "            # Apply early stopping\n",
    "            if (best_val_score is None) or (val_score > (best_val_score + 0.001)):\n",
    "                state_dict = model.state_dict()\n",
    "                best_val_score = val_score\n",
    "                early_stopping_patience_curr = 0\n",
    "            else:\n",
    "                early_stopping_patience_curr += 1\n",
    "                if early_stopping_patience_curr == early_stopping_patience:\n",
    "                    if save_model_path is not None:\n",
    "                        torch.save(state_dict, save_model_path)\n",
    "                    return loss_l, val_score_l\n",
    "\n",
    "    if save_model_path is not None:\n",
    "        torch.save(state_dict, save_model_path)\n",
    "    \n",
    "    return loss_l, val_score_l"
   ]
  },
  {
   "cell_type": "code",
   "execution_count": 87,
   "id": "8a7c74cd-40e6-4ab7-933b-f63b659747ed",
   "metadata": {},
   "outputs": [
    {
     "name": "stderr",
     "output_type": "stream",
     "text": [
      "Using cache found in /root/.cache/torch/hub/Warvito_MedicalNet-models_main\n"
     ]
    },
    {
     "name": "stdout",
     "output_type": "stream",
     "text": [
      "Epoch 0; Train Loss 0.38576351258999264; Validation Score 0.5152544162423518\n",
      "Epoch 1; Train Loss 0.23375082054199317; Validation Score 0.5183115452944622\n",
      "Epoch 2; Train Loss 0.22658706169862014; Validation Score 0.5387688290366439\n",
      "Epoch 3; Train Loss 0.2198004488570568; Validation Score 0.5398660311088936\n",
      "Epoch 4; Train Loss 0.2141556930847657; Validation Score 0.5390222271918255\n",
      "Epoch 5; Train Loss 0.21522743264452004; Validation Score 0.5362559207798951\n",
      "Epoch 6; Train Loss 0.21670041624934244; Validation Score 0.536610406780897\n",
      "Epoch 7; Train Loss 0.20878388598943368; Validation Score 0.5390496594943626\n",
      "Epoch 8; Train Loss 0.2124464378142968; Validation Score 0.5376525417399929\n",
      "Epoch 9; Train Loss 0.2108205367739384; Validation Score 0.5383124933024467\n",
      "Epoch 10; Train Loss 0.20531981610334837; Validation Score 0.5390761203745071\n",
      "Epoch 11; Train Loss 0.20395114349249083; Validation Score 0.5206522333859094\n",
      "Epoch 12; Train Loss 0.21289848345212448; Validation Score 0.5416855387261197\n",
      "Epoch 13; Train Loss 0.20623665942977637; Validation Score 0.5470099301636695\n",
      "Epoch 14; Train Loss 0.20494986545199004; Validation Score 0.5423740296511668\n",
      "Epoch 15; Train Loss 0.20626300410964551; Validation Score 0.5377826312554305\n",
      "Epoch 16; Train Loss 0.20133094508678484; Validation Score 0.5386260626979955\n",
      "Epoch 17; Train Loss 0.20142764579027128; Validation Score 0.5340469701253275\n",
      "Epoch 18; Train Loss 0.20710940143236747; Validation Score 0.5315675902360933\n",
      "Epoch 19; Train Loss 0.19853671974478623; Validation Score 0.5425028922916475\n",
      "Epoch 20; Train Loss 0.1942167578217311; Validation Score 0.5358791856395766\n",
      "Epoch 21; Train Loss 0.19944688954796547; Validation Score 0.5353937557231108\n",
      "Epoch 22; Train Loss 0.20030709709494543; Validation Score 0.5410802582800454\n",
      "Epoch 23; Train Loss 0.19264586575520345; Validation Score 0.5440698603912794\n"
     ]
    }
   ],
   "source": [
    "loader_sample = loader_create(df_train_sample)\n",
    "loader_val = loader_create(df_val)\n",
    "\n",
    "model_resnet10 = PretrainedMedResNet(\"medicalnet_resnet10_23datasets\", 14)\n",
    "model_resnet10 = model_resnet10.to(device)\n",
    "\n",
    "loss_l, val_score_l = finetune(loader_sample, loader_val, model_resnet10, 120, \"/workspace/resnet10.pth\")"
   ]
  },
  {
   "cell_type": "markdown",
   "id": "f223d296-dee0-47c1-8dcf-5b4ef95401ff",
   "metadata": {},
   "source": [
    "We use the lighter model (ResNet10) to train on the sample training set."
   ]
  },
  {
   "cell_type": "markdown",
   "id": "992e1e44-7de4-4619-b955-53aef6683a33",
   "metadata": {},
   "source": [
    "We can verify that the performance improved, but not much (from 0.515 to 0.547)."
   ]
  },
  {
   "cell_type": "markdown",
   "id": "dcd4cb0d-8f23-40f5-a735-66811b2755ba",
   "metadata": {},
   "source": [
    "Now on the whole training set with the heavier model (ResNet50):"
   ]
  },
  {
   "cell_type": "code",
   "execution_count": 57,
   "id": "ac22e568-118c-4f4e-8954-7c67314a05a9",
   "metadata": {},
   "outputs": [
    {
     "name": "stderr",
     "output_type": "stream",
     "text": [
      "Using cache found in /root/.cache/torch/hub/Warvito_MedicalNet-models_main\n"
     ]
    },
    {
     "name": "stdout",
     "output_type": "stream",
     "text": [
      "Epoch 0; Train Loss 0.2019424137303277; Validation Score 0.5232832566089449\n",
      "Epoch 1; Train Loss 0.1945348786619291; Validation Score 0.5232502145180512\n",
      "Epoch 2; Train Loss 0.1945469601664181; Validation Score 0.5300774271283897\n",
      "Epoch 3; Train Loss 0.19386267787594275; Validation Score 0.5395614672163476\n",
      "Epoch 4; Train Loss 0.1924308969036621; Validation Score 0.5399839491319558\n",
      "Epoch 5; Train Loss 0.19254090396376947; Validation Score 0.540975810619104\n",
      "Epoch 6; Train Loss 0.19163510653044225; Validation Score 0.5423311220076471\n",
      "Epoch 7; Train Loss 0.19162775461525455; Validation Score 0.5504449433702849\n",
      "Epoch 8; Train Loss 0.19066904374288723; Validation Score 0.5558149275713012\n",
      "Epoch 9; Train Loss 0.1905277721656888; Validation Score 0.5482644704608037\n",
      "Epoch 10; Train Loss 0.1902269991982144; Validation Score 0.5589457030406708\n",
      "Epoch 11; Train Loss 0.18933469080822726; Validation Score 0.5611364264734483\n",
      "Epoch 12; Train Loss 0.1892153338492647; Validation Score 0.5525392633756667\n",
      "Epoch 13; Train Loss 0.18930017121830114; Validation Score 0.5593523634616527\n",
      "Epoch 14; Train Loss 0.18898719792053395; Validation Score 0.5595579977939066\n",
      "Epoch 15; Train Loss 0.18863002286183045; Validation Score 0.5644511246511228\n",
      "Epoch 16; Train Loss 0.1875651814728318; Validation Score 0.559969162618635\n",
      "Epoch 17; Train Loss 0.18815708393231034; Validation Score 0.5604222628887694\n",
      "Epoch 18; Train Loss 0.18690012900761382; Validation Score 0.5571212779404064\n",
      "Epoch 19; Train Loss 0.18681673118935935; Validation Score 0.5624347481475244\n",
      "Epoch 20; Train Loss 0.18722525935656592; Validation Score 0.5562747185217152\n",
      "Epoch 21; Train Loss 0.18602828486986897; Validation Score 0.5644115395493514\n",
      "Epoch 22; Train Loss 0.1859959574671937; Validation Score 0.5552323582737945\n",
      "Epoch 23; Train Loss 0.18652135342377804; Validation Score 0.5622749123411752\n",
      "Epoch 24; Train Loss 0.1854520874810131; Validation Score 0.5558732956963987\n",
      "Epoch 25; Train Loss 0.18576280841622136; Validation Score 0.562289186841948\n"
     ]
    }
   ],
   "source": [
    "loader_train = loader_create(df_train)\n",
    "loader_val = loader_create(df_val)\n",
    "\n",
    "model_resnet50 = PretrainedMedResNet(\"medicalnet_resnet50_23datasets\", 14)\n",
    "model_resnet50 = model_resnet50.to(device)\n",
    "\n",
    "loss_l, val_score_l = finetune(loader_train, loader_val, model_resnet50, 120, \"/workspace/resnet50_train_val.pth\")"
   ]
  },
  {
   "cell_type": "markdown",
   "id": "572b5be8-375d-4f6d-a2e1-10a35f6a5d97",
   "metadata": {},
   "source": [
    "Here the performance improved a little more, but also not much (from 0.523 to 0.564)."
   ]
  },
  {
   "cell_type": "markdown",
   "id": "e053bfdb-7383-43e4-956a-cc0904c440b0",
   "metadata": {},
   "source": [
    "Now let's train the heavier model on the whole set, without early stopping:"
   ]
  },
  {
   "cell_type": "code",
   "execution_count": null,
   "id": "99199831-ee48-4c57-89ac-ec65003e1b58",
   "metadata": {},
   "outputs": [],
   "source": [
    "loader_df = loader_create(df)\n",
    "\n",
    "model_resnet50 = PretrainedMedResNet(\"medicalnet_resnet50_23datasets\", 14)\n",
    "model_resnet50 = model_resnet50.to(device)\n",
    "\n",
    "loss_l, val_score_l = finetune(loader_df, None, model_resnet50, 120, \"/workspace/resnet50_complete.pth\")"
   ]
  },
  {
   "cell_type": "code",
   "execution_count": 94,
   "id": "85fb27e2-a59f-42f7-9b57-d6fd3a7ceb68",
   "metadata": {},
   "outputs": [
    {
     "data": {
      "text/plain": [
       "0.18168805725358447"
      ]
     },
     "execution_count": 94,
     "metadata": {},
     "output_type": "execute_result"
    }
   ],
   "source": [
    "loss_l[25]"
   ]
  },
  {
   "cell_type": "code",
   "execution_count": 103,
   "id": "185320f1-01a3-4125-ba5b-de3c9c885e9b",
   "metadata": {},
   "outputs": [
    {
     "name": "stdout",
     "output_type": "stream",
     "text": [
      "0.9939361642679363\n"
     ]
    }
   ],
   "source": [
    "volume_domain_median_spacing_dict = {\n",
    "    \"CTA\": (0.46875, 0.46875, 0.8),\n",
    "    \"MRA\": (0.410156, 0.410156, 0.6),\n",
    "    \"MRI T1post\": (0.5, 0.5, 1.2),\n",
    "    \"MRI T2\": (0.5, 0.5, 5.)\n",
    "}\n",
    "\n",
    "def get_metadata_nifti(idx, metadata):\n",
    "    modality = df[\"Modality\"][idx]\n",
    "    spacing = nifti_get_spacing(metadata)\n",
    "    return modality, spacing\n",
    "\n",
    "transforms = [\n",
    "    NormalizeSpacing(\"trilinear\", volume_domain_median_spacing_dict, get_metadata_nifti),\n",
    "    PercentileCropIntensity(percentiles=(0.5, 99.5)),\n",
    "    StandardizeIntensity(), \n",
    "    NormalizeSizeInterp((32, 224, 224), \"nearest\")\n",
    "]\n",
    "\n",
    "nifti = nifti_load(series_path)\n",
    "volume, metadata = nifti_process(nifti)\n",
    "volume = volume.unsqueeze(0).unsqueeze(0)\n",
    "\n",
    "for transform in transforms:\n",
    "    if transform.get_metadata is not None:\n",
    "        transform_metadata = transform.get_metadata(idx, metadata)\n",
    "        volume = transform.transform(volume, *transform_metadata)\n",
    "    else:\n",
    "        volume = transform.transform(volume)\n",
    "\n",
    "model_resnet50 = PretrainedMedResNet(\"medicalnet_resnet50_23datasets\", 14)\n",
    "model_resnet50 = model_resnet50.to(device)\n",
    "\n",
    "# Predict\n",
    "scores_l = []\n",
    "labels_l = []\n",
    "with torch.no_grad():\n",
    "    model_resnet50 = model_resnet50.eval()\n",
    "\n",
    "    for volumes, labels in loader:\n",
    "        volumes = volumes.to(device)\n",
    "        labels = labels.to(device)\n",
    "        volumes = volumes.nan_to_num()\n",
    "        \n",
    "        scores = model_resnet50.forward(volumes)\n",
    "        scores_l.append(scores)\n",
    "        labels_l.append(labels)\n",
    "    \n",
    "scores_arr = torch.vstack(scores_l).detach().cpu().numpy()\n",
    "labels_arr = torch.vstack(labels_l).to(torch.float32).detach().cpu().numpy()\n",
    "\n",
    "# Post-processing\n",
    "has_aneurysm_preds_mask = (scores_arr[:, :-1] > 0.5).any(axis=1)\n",
    "scores_arr[has_aneurysm_preds_mask, -1] = 1.0\n",
    "scores_arr[~has_aneurysm_preds_mask, -1] = 0.0\n",
    "\n",
    "roc_auc_scores = roc_auc_score(labels_arr, scores_arr, average=None)\n",
    "final_score = (np.mean(roc_auc_scores[:-1]) + roc_auc_scores[-1]) * 0.5\n",
    "print(final_score)"
   ]
  },
  {
   "cell_type": "markdown",
   "id": "daf707e1-600f-46d4-b5d0-9e31143031a9",
   "metadata": {},
   "source": [
    "Here the model completely overfitted the training data, which means it should be complex enough to capture the patterns in the medical imaging volumes, given that the training data is representative of the population data. But we cannot use this model for inference, since the performance on the test data would be really bad."
   ]
  },
  {
   "cell_type": "code",
   "execution_count": 123,
   "id": "63845a22-f6e0-4b47-93ed-e3d16893ef59",
   "metadata": {},
   "outputs": [],
   "source": [
    "with torch.no_grad():\n",
    "    volume, label = next(iter(loader))\n",
    "    \n",
    "    volume = volume.to(device)\n",
    "    label = label.to(device)\n",
    "    volume = volume.nan_to_num()\n",
    "    \n",
    "    scores = model_resnet50.forward(volume)"
   ]
  },
  {
   "cell_type": "code",
   "execution_count": 124,
   "id": "80bf62c2-ce1e-4376-90d0-d35484268d13",
   "metadata": {},
   "outputs": [],
   "source": [
    "if (scores[:, :-1] > 0.5).any().item():\n",
    "    scores[:, -1] = 1.0\n",
    "else:\n",
    "    scores[:, -1] = 0.0"
   ]
  },
  {
   "cell_type": "code",
   "execution_count": 125,
   "id": "3994fc98-aced-4fb6-b6d4-d6cb265a96f8",
   "metadata": {},
   "outputs": [
    {
     "data": {
      "text/plain": [
       "tensor([[2.5632e-05, 1.6649e-06, 2.3504e-03, 3.8969e-05, 1.5284e-02, 9.7983e-01,\n",
       "         1.3989e-06, 9.8677e-01, 3.5252e-04, 9.9944e-01, 1.5912e-03, 2.0041e-03,\n",
       "         7.7659e-08, 1.0000e+00]], device='cuda:0')"
      ]
     },
     "execution_count": 125,
     "metadata": {},
     "output_type": "execute_result"
    }
   ],
   "source": [
    "scores"
   ]
  },
  {
   "cell_type": "code",
   "execution_count": null,
   "id": "3eb561f6-216d-4ba9-b400-768583d13fe3",
   "metadata": {},
   "outputs": [],
   "source": []
  }
 ],
 "metadata": {
  "kernelspec": {
   "display_name": "Python 3 (ipykernel)",
   "language": "python",
   "name": "python3"
  },
  "language_info": {
   "codemirror_mode": {
    "name": "ipython",
    "version": 3
   },
   "file_extension": ".py",
   "mimetype": "text/x-python",
   "name": "python",
   "nbconvert_exporter": "python",
   "pygments_lexer": "ipython3",
   "version": "3.13.9"
  }
 },
 "nbformat": 4,
 "nbformat_minor": 5
}
