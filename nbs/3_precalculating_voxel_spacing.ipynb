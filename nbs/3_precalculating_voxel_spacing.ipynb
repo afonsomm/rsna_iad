{
 "cells": [
  {
   "cell_type": "markdown",
   "metadata": {},
   "source": [
    "# Pre-calculating voxel spacing"
   ]
  },
  {
   "cell_type": "markdown",
   "metadata": {},
   "source": [
    "The [Med3D](https://arxiv.org/pdf/1904.00625) study reports that medical volumes often exhibit heterogeneous voxel spacing due to differences in scanners and acquisition protocols. To mitigate this variability, the median spacing for each axis (x, y, z) is calculated within each domain, where a domain is defined by specific equipment and acquisition protocols. This approach ensures that the estimated spacing remains robust against outliers and minor data errors.\n",
    "\n",
    "In this notebook, a domain is defined by imaging modality (which can be \"CTA\", \"MRA\", \"MRI T1post\", \"MRI T2\"), resulting in four distinct domains. For each domain, the median spacing of each series is calculated. The method for determining spacing in each series depends on the type of DICOM file present:\n",
    "- For series containing a single DICOM file representing the entire volume (3D), spacing is obtained from the attribute specifying the spacing for the whole volume.\n",
    "- For series containing a collection of DICOM files from slices (2D), spacing is determined as the mode of all spacings. It is assumed that most spacings within each series are consistent. Instances with differing spacings are considered data errors and are excluded from the final median computation for each domain, by using only the mode of all spacings.\n",
    "\n",
    "---\n",
    "**Results (x, y, z):**\n",
    "- CTA: (0.46875, 0.46875, 0.8)\n",
    "- MRA: (0.410156, 0.410156, 0.6)\n",
    "- MRI T1post: (0.5, 0.5, 1.2)\n",
    "- MRI T2: (0.5, 0.5, 5.)"
   ]
  },
  {
   "cell_type": "code",
   "execution_count": null,
   "metadata": {},
   "outputs": [],
   "source": [
    "#|default_exp precalculating_voxel_spacing"
   ]
  },
  {
   "cell_type": "code",
   "execution_count": null,
   "metadata": {},
   "outputs": [],
   "source": [
    "import sys\n",
    "sys.path.append(\"../lib\")"
   ]
  },
  {
   "cell_type": "markdown",
   "metadata": {},
   "source": [
    ">**Note**: Since i had already implemented this before the DICOM to NifTI part, this code loads DICOM files instead of the NifTIs that already have the computed mode of the spacing for each volume."
   ]
  },
  {
   "cell_type": "code",
   "execution_count": null,
   "metadata": {},
   "outputs": [],
   "source": [
    "#|export\n",
    "from dicom_to_nifti import *\n",
    "import numpy as np\n",
    "\n",
    "def dicom_series_get_spacing(base_series_path, series_uid):\n",
    "\n",
    "    spacings = np.zeros((len(series_uid), 3))\n",
    "    for i, serie_uid in enumerate(series_uid):\n",
    "        ds_l = dicom_serie_load(base_series_path, serie_uid)\n",
    "        spacings[i] = dicom_serie_get_spacing(ds_l)\n",
    "\n",
    "    return spacings"
   ]
  },
  {
   "cell_type": "code",
   "execution_count": null,
   "metadata": {},
   "outputs": [],
   "source": [
    "import os\n",
    "\n",
    "base_path_dicom = os.environ[\"RSNA_IAD_DATA_DIR\"]\n",
    "series_path_dicom = f\"{base_path_dicom}/series\""
   ]
  },
  {
   "cell_type": "code",
   "execution_count": null,
   "metadata": {},
   "outputs": [],
   "source": [
    "import random\n",
    "\n",
    "series_uid_l = os.listdir(series_path_dicom)\n",
    "random.seed(0)\n",
    "sample_series_uid_l = random.sample(series_uid_l, 5)\n",
    "\n",
    "spacings = dicom_series_get_spacing(series_path_dicom, sample_series_uid_l)\n",
    "print(spacings)"
   ]
  },
  {
   "cell_type": "markdown",
   "metadata": {},
   "source": [
    "Here i have the option to load series in batches per task/job. So I implemented a dictionary that maps the job object to the series indexes, so later i can retrieve their modalities/domains, from these indexes, as the jobs' completion order is not pre-determined. Then i can update the list of spacings for that domain:"
   ]
  },
  {
   "cell_type": "code",
   "execution_count": null,
   "metadata": {},
   "outputs": [],
   "source": [
    "from concurrent.futures import ProcessPoolExecutor, as_completed\n",
    "import multiprocessing\n",
    "from tqdm import tqdm\n",
    "import numpy as np\n",
    "import polars as pl\n",
    "\n",
    "train_df = pl.read_csv(f\"{base_path_dicom}/train.csv\")\n",
    "series_uid = train_df[\"SeriesInstanceUID\"].to_numpy()\n",
    "modalities = train_df[\"Modality\"].to_numpy()\n",
    "\n",
    "domain_spacing_dict = { modality: [] for modality in np.unique(modalities) }\n",
    "n_series = series_uid.shape[0]\n",
    "batch_size = 1\n",
    "with ProcessPoolExecutor(max_workers=multiprocessing.cpu_count()) as executor:\n",
    "    job_to_idx_dict = {}\n",
    "    for i in tqdm(range(0, n_series, batch_size)):\n",
    "        ixs = slice(i, min(n_series, i+batch_size))\n",
    "        series_uid_i = series_uid[ixs]\n",
    "        job = executor.submit(dicom_series_get_spacing, series_path_dicom, series_uid_i)\n",
    "        job_to_idx_dict[job] = ixs\n",
    "\n",
    "    n_jobs = len(job_to_idx_dict)\n",
    "    for job in tqdm(as_completed(job_to_idx_dict), total=n_jobs):\n",
    "        try:\n",
    "            spacings = job.result()\n",
    "            ixs = job_to_idx_dict[job]\n",
    "            for modality, spacing in zip(modalities[ixs], spacings):\n",
    "                domain_spacing_dict[modality].append(spacing)\n",
    "        except Exception as e:\n",
    "            raise Exception(e)\n",
    "\n",
    "     # Stack lists of numpy arrays\n",
    "    for domain, spacings in domain_spacing_dict.items():\n",
    "        if len(spacings) > 0:\n",
    "            domain_spacing_dict[domain] = np.vstack(spacings)\n",
    "        else:\n",
    "            domiiain_spacing_dict[domain] = None   "
   ]
  },
  {
   "cell_type": "code",
   "execution_count": null,
   "metadata": {
    "scrolled": true
   },
   "outputs": [],
   "source": [
    "domain_spacing_dict"
   ]
  },
  {
   "cell_type": "code",
   "execution_count": null,
   "metadata": {},
   "outputs": [],
   "source": [
    "for domain, spacings in domain_spacing_dict.items():\n",
    "    print(f\"{domain}: {np.median(spacings, axis=0)}\")"
   ]
  },
  {
   "cell_type": "code",
   "execution_count": null,
   "metadata": {},
   "outputs": [],
   "source": []
  }
 ],
 "metadata": {
  "kaggle": {
   "accelerator": "none",
   "dataSources": [
    {
     "databundleVersionId": 13851420,
     "sourceId": 99552,
     "sourceType": "competition"
    }
   ],
   "dockerImageVersionId": 31089,
   "isGpuEnabled": false,
   "isInternetEnabled": true,
   "language": "python",
   "sourceType": "notebook"
  },
  "kernelspec": {
   "display_name": "Python 3 (ipykernel)",
   "language": "python",
   "name": "python3"
  },
  "language_info": {
   "codemirror_mode": {
    "name": "ipython",
    "version": 3
   },
   "file_extension": ".py",
   "mimetype": "text/x-python",
   "name": "python",
   "nbconvert_exporter": "python",
   "pygments_lexer": "ipython3",
   "version": "3.13.9"
  }
 },
 "nbformat": 4,
 "nbformat_minor": 4
}
